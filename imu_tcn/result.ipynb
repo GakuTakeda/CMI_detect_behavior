{
 "cells": [
  {
   "cell_type": "code",
   "execution_count": 3,
   "id": "8be26c08",
   "metadata": {},
   "outputs": [
    {
     "ename": "KeyError",
     "evalue": "'Record does not exist.'",
     "output_type": "error",
     "traceback": [
      "\u001b[31m---------------------------------------------------------------------------\u001b[39m",
      "\u001b[31mKeyError\u001b[39m                                  Traceback (most recent call last)",
      "\u001b[36mCell\u001b[39m\u001b[36m \u001b[39m\u001b[32mIn[3]\u001b[39m\u001b[32m, line 8\u001b[39m\n\u001b[32m      5\u001b[39m \u001b[38;5;28;01mimport\u001b[39;00m\u001b[38;5;250m \u001b[39m\u001b[34;01moptuna\u001b[39;00m,\u001b[38;5;250m \u001b[39m\u001b[34;01mpandas\u001b[39;00m\u001b[38;5;250m \u001b[39m\u001b[38;5;28;01mas\u001b[39;00m\u001b[38;5;250m \u001b[39m\u001b[34;01mpd\u001b[39;00m,\u001b[38;5;250m \u001b[39m\u001b[34;01mnumpy\u001b[39;00m\u001b[38;5;250m \u001b[39m\u001b[38;5;28;01mas\u001b[39;00m\u001b[38;5;250m \u001b[39m\u001b[34;01mnp\u001b[39;00m,\u001b[38;5;250m \u001b[39m\u001b[34;01mmatplotlib\u001b[39;00m\u001b[34;01m.\u001b[39;00m\u001b[34;01mpyplot\u001b[39;00m\u001b[38;5;250m \u001b[39m\u001b[38;5;28;01mas\u001b[39;00m\u001b[38;5;250m \u001b[39m\u001b[34;01mplt\u001b[39;00m\n\u001b[32m      6\u001b[39m \u001b[38;5;28;01mfrom\u001b[39;00m\u001b[38;5;250m \u001b[39m\u001b[34;01moptuna\u001b[39;00m\u001b[34;01m.\u001b[39;00m\u001b[34;01mtrial\u001b[39;00m\u001b[38;5;250m \u001b[39m\u001b[38;5;28;01mimport\u001b[39;00m TrialState\n\u001b[32m----> \u001b[39m\u001b[32m8\u001b[39m study = \u001b[43moptuna\u001b[49m\u001b[43m.\u001b[49m\u001b[43mload_study\u001b[49m\u001b[43m(\u001b[49m\u001b[43mstudy_name\u001b[49m\u001b[43m=\u001b[49m\u001b[43mSTUDY\u001b[49m\u001b[43m,\u001b[49m\u001b[43m \u001b[49m\u001b[43mstorage\u001b[49m\u001b[43m=\u001b[49m\u001b[43mSTORAGE\u001b[49m\u001b[43m)\u001b[49m\n\u001b[32m     10\u001b[39m \u001b[38;5;66;03m# 1) user_attr から fold_scores(list[float]) を収集\u001b[39;00m\n\u001b[32m     11\u001b[39m rows = []\n",
      "\u001b[36mFile \u001b[39m\u001b[32m/mnt/c/Users/tkdgk/SMBC-Green-Data/.venv/lib/python3.12/site-packages/optuna/_convert_positional_args.py:134\u001b[39m, in \u001b[36mconvert_positional_args.<locals>.converter_decorator.<locals>.converter_wrapper\u001b[39m\u001b[34m(*args, **kwargs)\u001b[39m\n\u001b[32m    128\u001b[39m     \u001b[38;5;28;01mraise\u001b[39;00m \u001b[38;5;167;01mTypeError\u001b[39;00m(\n\u001b[32m    129\u001b[39m         \u001b[33mf\u001b[39m\u001b[33m\"\u001b[39m\u001b[38;5;132;01m{\u001b[39;00mfunc.\u001b[34m__name__\u001b[39m\u001b[38;5;132;01m}\u001b[39;00m\u001b[33m() got multiple values for arguments \u001b[39m\u001b[38;5;132;01m{\u001b[39;00mduplicated_kwds\u001b[38;5;132;01m}\u001b[39;00m\u001b[33m.\u001b[39m\u001b[33m\"\u001b[39m\n\u001b[32m    130\u001b[39m     )\n\u001b[32m    132\u001b[39m kwargs.update(inferred_kwargs)\n\u001b[32m--> \u001b[39m\u001b[32m134\u001b[39m \u001b[38;5;28;01mreturn\u001b[39;00m \u001b[43mfunc\u001b[49m\u001b[43m(\u001b[49m\u001b[43m*\u001b[49m\u001b[43m*\u001b[49m\u001b[43mkwargs\u001b[49m\u001b[43m)\u001b[49m\n",
      "\u001b[36mFile \u001b[39m\u001b[32m/mnt/c/Users/tkdgk/SMBC-Green-Data/.venv/lib/python3.12/site-packages/optuna/study/study.py:1385\u001b[39m, in \u001b[36mload_study\u001b[39m\u001b[34m(study_name, storage, sampler, pruner)\u001b[39m\n\u001b[32m   1379\u001b[39m     study_name = study_names[\u001b[32m0\u001b[39m]\n\u001b[32m   1380\u001b[39m     _logger.info(\n\u001b[32m   1381\u001b[39m         \u001b[33mf\u001b[39m\u001b[33m\"\u001b[39m\u001b[33mStudy name was omitted but trying to load \u001b[39m\u001b[33m'\u001b[39m\u001b[38;5;132;01m{\u001b[39;00mstudy_name\u001b[38;5;132;01m}\u001b[39;00m\u001b[33m'\u001b[39m\u001b[33m because that was the only \u001b[39m\u001b[33m\"\u001b[39m\n\u001b[32m   1382\u001b[39m         \u001b[33m\"\u001b[39m\u001b[33mstudy found in the storage.\u001b[39m\u001b[33m\"\u001b[39m\n\u001b[32m   1383\u001b[39m     )\n\u001b[32m-> \u001b[39m\u001b[32m1385\u001b[39m study = \u001b[43mStudy\u001b[49m\u001b[43m(\u001b[49m\u001b[43mstudy_name\u001b[49m\u001b[43m=\u001b[49m\u001b[43mstudy_name\u001b[49m\u001b[43m,\u001b[49m\u001b[43m \u001b[49m\u001b[43mstorage\u001b[49m\u001b[43m=\u001b[49m\u001b[43mstorage\u001b[49m\u001b[43m,\u001b[49m\u001b[43m \u001b[49m\u001b[43msampler\u001b[49m\u001b[43m=\u001b[49m\u001b[43msampler\u001b[49m\u001b[43m,\u001b[49m\u001b[43m \u001b[49m\u001b[43mpruner\u001b[49m\u001b[43m=\u001b[49m\u001b[43mpruner\u001b[49m\u001b[43m)\u001b[49m\n\u001b[32m   1386\u001b[39m \u001b[38;5;28;01mif\u001b[39;00m sampler \u001b[38;5;129;01mis\u001b[39;00m \u001b[38;5;28;01mNone\u001b[39;00m \u001b[38;5;129;01mand\u001b[39;00m \u001b[38;5;28mlen\u001b[39m(study.directions) > \u001b[32m1\u001b[39m:\n\u001b[32m   1387\u001b[39m     study.sampler = samplers.NSGAIISampler()\n",
      "\u001b[36mFile \u001b[39m\u001b[32m/mnt/c/Users/tkdgk/SMBC-Green-Data/.venv/lib/python3.12/site-packages/optuna/study/study.py:87\u001b[39m, in \u001b[36mStudy.__init__\u001b[39m\u001b[34m(self, study_name, storage, sampler, pruner)\u001b[39m\n\u001b[32m     85\u001b[39m \u001b[38;5;28mself\u001b[39m.study_name = study_name\n\u001b[32m     86\u001b[39m storage = storages.get_storage(storage)\n\u001b[32m---> \u001b[39m\u001b[32m87\u001b[39m study_id = \u001b[43mstorage\u001b[49m\u001b[43m.\u001b[49m\u001b[43mget_study_id_from_name\u001b[49m\u001b[43m(\u001b[49m\u001b[43mstudy_name\u001b[49m\u001b[43m)\u001b[49m\n\u001b[32m     88\u001b[39m \u001b[38;5;28mself\u001b[39m._study_id = study_id\n\u001b[32m     89\u001b[39m \u001b[38;5;28mself\u001b[39m._storage = storage\n",
      "\u001b[36mFile \u001b[39m\u001b[32m/mnt/c/Users/tkdgk/SMBC-Green-Data/.venv/lib/python3.12/site-packages/optuna/storages/_cached_storage.py:107\u001b[39m, in \u001b[36m_CachedStorage.get_study_id_from_name\u001b[39m\u001b[34m(self, study_name)\u001b[39m\n\u001b[32m    106\u001b[39m \u001b[38;5;28;01mdef\u001b[39;00m\u001b[38;5;250m \u001b[39m\u001b[34mget_study_id_from_name\u001b[39m(\u001b[38;5;28mself\u001b[39m, study_name: \u001b[38;5;28mstr\u001b[39m) -> \u001b[38;5;28mint\u001b[39m:\n\u001b[32m--> \u001b[39m\u001b[32m107\u001b[39m     \u001b[38;5;28;01mreturn\u001b[39;00m \u001b[38;5;28;43mself\u001b[39;49m\u001b[43m.\u001b[49m\u001b[43m_backend\u001b[49m\u001b[43m.\u001b[49m\u001b[43mget_study_id_from_name\u001b[49m\u001b[43m(\u001b[49m\u001b[43mstudy_name\u001b[49m\u001b[43m)\u001b[49m\n",
      "\u001b[36mFile \u001b[39m\u001b[32m/mnt/c/Users/tkdgk/SMBC-Green-Data/.venv/lib/python3.12/site-packages/optuna/storages/_rdb/storage.py:331\u001b[39m, in \u001b[36mRDBStorage.get_study_id_from_name\u001b[39m\u001b[34m(self, study_name)\u001b[39m\n\u001b[32m    329\u001b[39m \u001b[38;5;28;01mdef\u001b[39;00m\u001b[38;5;250m \u001b[39m\u001b[34mget_study_id_from_name\u001b[39m(\u001b[38;5;28mself\u001b[39m, study_name: \u001b[38;5;28mstr\u001b[39m) -> \u001b[38;5;28mint\u001b[39m:\n\u001b[32m    330\u001b[39m     \u001b[38;5;28;01mwith\u001b[39;00m _create_scoped_session(\u001b[38;5;28mself\u001b[39m.scoped_session) \u001b[38;5;28;01mas\u001b[39;00m session:\n\u001b[32m--> \u001b[39m\u001b[32m331\u001b[39m         study = \u001b[43mmodels\u001b[49m\u001b[43m.\u001b[49m\u001b[43mStudyModel\u001b[49m\u001b[43m.\u001b[49m\u001b[43mfind_or_raise_by_name\u001b[49m\u001b[43m(\u001b[49m\u001b[43mstudy_name\u001b[49m\u001b[43m,\u001b[49m\u001b[43m \u001b[49m\u001b[43msession\u001b[49m\u001b[43m)\u001b[49m\n\u001b[32m    332\u001b[39m         study_id = study.study_id\n\u001b[32m    334\u001b[39m     \u001b[38;5;28;01mreturn\u001b[39;00m study_id\n",
      "\u001b[36mFile \u001b[39m\u001b[32m/mnt/c/Users/tkdgk/SMBC-Green-Data/.venv/lib/python3.12/site-packages/optuna/storages/_rdb/models.py:87\u001b[39m, in \u001b[36mStudyModel.find_or_raise_by_name\u001b[39m\u001b[34m(cls, study_name, session)\u001b[39m\n\u001b[32m     85\u001b[39m study = \u001b[38;5;28mcls\u001b[39m.find_by_name(study_name, session)\n\u001b[32m     86\u001b[39m \u001b[38;5;28;01mif\u001b[39;00m study \u001b[38;5;129;01mis\u001b[39;00m \u001b[38;5;28;01mNone\u001b[39;00m:\n\u001b[32m---> \u001b[39m\u001b[32m87\u001b[39m     \u001b[38;5;28;01mraise\u001b[39;00m \u001b[38;5;167;01mKeyError\u001b[39;00m(NOT_FOUND_MSG)\n\u001b[32m     89\u001b[39m \u001b[38;5;28;01mreturn\u001b[39;00m study\n",
      "\u001b[31mKeyError\u001b[39m: 'Record does not exist.'"
     ]
    }
   ],
   "source": [
    "# ==== 設定 ====\n",
    "STORAGE = \"sqlite:///lstmgru_tuning.db\"\n",
    "STUDY   = \"imu_tuning\"\n",
    "\n",
    "import optuna, pandas as pd, numpy as np, matplotlib.pyplot as plt\n",
    "from optuna.trial import TrialState\n",
    "\n",
    "study = optuna.load_study(study_name=STUDY, storage=STORAGE)\n",
    "\n",
    "# 1) user_attr から fold_scores(list[float]) を収集\n",
    "rows = []\n",
    "for t in study.get_trials(states=(TrialState.COMPLETE,)):\n",
    "    fs = t.user_attrs.get(\"fold_scores\", None)\n",
    "    if isinstance(fs, (list, tuple)) and len(fs) > 0:\n",
    "        for i, s in enumerate(fs, start=1):  # i=fold番号(1始まり)\n",
    "            rows.append({\"trial\": t.number, \"fold\": i, \"score\": float(s), \"objective\": t.value})\n",
    "\n",
    "df = pd.DataFrame(rows)\n",
    "assert not df.empty, \"fold_scores が見つかりません。trial.set_user_attr('fold_scores', list) を確認してください。\"\n",
    "\n",
    "# 2) ピボット（trial×fold）\n",
    "pv = df.pivot_table(index=\"trial\", columns=\"fold\", values=\"score\", aggfunc=\"mean\")\n",
    "pv[\"mean\"] = pv.mean(axis=1)\n",
    "\n",
    "# 3) 上位を確認\n",
    "top = pv.sort_values(\"mean\", ascending=False)\n",
    "print(\"Top trials by mean score:\\n\", top.head(10))\n",
    "\n",
    "# 4) ヒートマップ（上位20試行）\n",
    "top_k = min(20, len(top))\n",
    "hm = top.iloc[:top_k, :-1]  # 平均列を除外\n",
    "plt.figure(figsize=(10, max(4, 0.35*top_k)))\n",
    "plt.imshow(hm, aspect=\"auto\")\n",
    "plt.title(f\"Fold scores per trial (top {top_k})\")\n",
    "plt.xlabel(\"fold\")\n",
    "plt.ylabel(\"trial\")\n",
    "plt.colorbar(label=\"score\")\n",
    "plt.yticks(range(top_k), hm.index.to_list())\n",
    "plt.show()\n",
    "\n",
    "# 5) 上位5試行の平均スコア棒グラフ\n",
    "plt.figure(figsize=(6,4))\n",
    "top[\"mean\"].head(min(5, len(top))).plot(kind=\"bar\")\n",
    "plt.ylabel(\"mean score\")\n",
    "plt.title(\"Top trials (mean over folds)\")\n",
    "plt.tight_layout()\n",
    "plt.show()\n",
    "\n",
    "# 6) ベスト試行の fold別スコアを個別に可視化（任意）\n",
    "best_trial = int(top.index[0])\n",
    "plt.figure(figsize=(6,3))\n",
    "pv.loc[best_trial].drop(\"mean\").plot(kind=\"bar\")\n",
    "plt.ylabel(\"score\")\n",
    "plt.title(f\"Best trial #{best_trial} - per-fold scores\")\n",
    "plt.tight_layout()\n",
    "plt.show()\n",
    "\n",
    "# （必要ならCSV出力）\n",
    "# pv.to_csv(\"fold_scores_pivot.csv\")\n"
   ]
  },
  {
   "cell_type": "code",
   "execution_count": 4,
   "id": "67df65ff",
   "metadata": {},
   "outputs": [
    {
     "name": "stdout",
     "output_type": "stream",
     "text": [
      "[]\n"
     ]
    }
   ],
   "source": [
    "import optuna\n",
    "# 1) そのstorageにある全study名を確認\n",
    "print([s.study_name for s in optuna.study.get_all_study_summaries(storage=STORAGE)])\n",
    "\n",
    "# 2) SQLite を使っている場合、URLが正しいか（WSLなら /mnt/c の絶対パス推奨）\n",
    "# 例: STORAGE = \"sqlite:////mnt/c/Users/tkdgk/optuna/optuna.db\"  # 先頭スラッシュ4つ\n"
   ]
  },
  {
   "cell_type": "code",
   "execution_count": 5,
   "id": "2fd03f57",
   "metadata": {},
   "outputs": [
    {
     "data": {
      "text/plain": [
       "['config',\n",
       " 'datamodule.py',\n",
       " 'f_output',\n",
       " 'lightning_logs',\n",
       " 'lstmgru_tuning.db',\n",
       " 'outputs',\n",
       " 'result.ipynb',\n",
       " 'result.py',\n",
       " 'train.py',\n",
       " 'train.sh',\n",
       " 'tuning.py',\n",
       " 'utils.py',\n",
       " '__pycache__']"
      ]
     },
     "execution_count": 5,
     "metadata": {},
     "output_type": "execute_result"
    }
   ],
   "source": [
    "import os\n",
    "os.listdir()"
   ]
  },
  {
   "cell_type": "code",
   "execution_count": null,
   "id": "0f940efc",
   "metadata": {},
   "outputs": [],
   "source": []
  }
 ],
 "metadata": {
  "kernelspec": {
   "display_name": "Python (.venv)",
   "language": "python",
   "name": "my_venv"
  },
  "language_info": {
   "codemirror_mode": {
    "name": "ipython",
    "version": 3
   },
   "file_extension": ".py",
   "mimetype": "text/x-python",
   "name": "python",
   "nbconvert_exporter": "python",
   "pygments_lexer": "ipython3",
   "version": "3.12.3"
  }
 },
 "nbformat": 4,
 "nbformat_minor": 5
}
