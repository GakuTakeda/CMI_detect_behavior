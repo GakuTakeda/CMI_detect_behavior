{
 "cells": [
  {
   "cell_type": "code",
   "execution_count": 1,
   "id": "b01e8217",
   "metadata": {},
   "outputs": [],
   "source": [
    "import numpy as np\n",
    "import pandas as pd\n",
    "from sklearn.preprocessing import StandardScaler\n",
    "from sklearn.model_selection import StratifiedKFold\n",
    "from lightgbm import LGBMClassifier\n",
    "import lightgbm as lgb\n",
    "from utils import feature_eng\n",
    "from CMI_2025 import score\n",
    "from sklearn.metrics import f1_score\n"
   ]
  },
  {
   "cell_type": "code",
   "execution_count": 2,
   "id": "4cd335e4",
   "metadata": {},
   "outputs": [],
   "source": [
    "train = pd.read_csv('../data/train.csv')\n",
    "train = feature_eng(train)"
   ]
  },
  {
   "cell_type": "code",
   "execution_count": 3,
   "id": "467a7a4e",
   "metadata": {},
   "outputs": [],
   "source": [
    "target_gestures = [\n",
    "            'Above ear - pull hair',\n",
    "            'Cheek - pinch skin',\n",
    "            'Eyebrow - pull hair',\n",
    "            'Eyelash - pull hair',\n",
    "            'Forehead - pull hairline',\n",
    "            'Forehead - scratch',\n",
    "            'Neck - pinch skin',\n",
    "            'Neck - scratch',\n",
    "        ]\n",
    "non_target_gestures = [\n",
    "            'Write name on leg',\n",
    "            'Wave hello',\n",
    "            'Glasses on/off',\n",
    "            'Text on phone',\n",
    "            'Write name in air',\n",
    "            'Feel around in tray and pull out an object',\n",
    "            'Scratch knee/leg skin',\n",
    "            'Pull air toward your face',\n",
    "            'Drink from bottle/cup',\n",
    "            'Pinch knee/leg skin'\n",
    "        ]\n",
    "all_classes = target_gestures + non_target_gestures"
   ]
  },
  {
   "cell_type": "code",
   "execution_count": 4,
   "id": "432da7a7",
   "metadata": {},
   "outputs": [],
   "source": [
    "train = train[train[\"gesture\"].isin(target_gestures)]"
   ]
  },
  {
   "cell_type": "code",
   "execution_count": 7,
   "id": "b1aca581",
   "metadata": {},
   "outputs": [],
   "source": [
    "import warnings\n",
    "warnings.filterwarnings(\"ignore\")"
   ]
  },
  {
   "cell_type": "code",
   "execution_count": 8,
   "id": "d1683558",
   "metadata": {},
   "outputs": [],
   "source": [
    "meta = {'gesture','gesture_int','sequence_type','behavior','orientation',\n",
    "                'row_id','subject','phase','sequence_id','sequence_counter'}\n",
    "\n",
    "feat_cols = [c for c in train.columns if c not in meta]\n",
    "imu_cols =  [c for c in feat_cols\n",
    "                    if not (c.startswith(\"thm_\") or c.startswith(\"tof_\"))]\n",
    "\n",
    "X = []\n",
    "y = []\n",
    "for _, df_seq in train.groupby(\"sequence_id\"):\n",
    "    # 行動が \"Performs gesture\" の区間だけ抽出\n",
    "    target = df_seq.loc[df_seq[\"behavior\"] == \"Performs gesture\", imu_cols]\n",
    "    target = df_seq[imu_cols]\n",
    "\n",
    "    # そのシーケンスに該当区間が無い場合はスキップ\n",
    "    if target.empty:\n",
    "        continue\n",
    "\n",
    "    # 平均と分散を交互に並べた 1 次元リストを作成\n",
    "    # 例）[acc_x_mean, acc_x_var, acc_y_mean, acc_y_var, ...]\n",
    "    lag_periods = [1,2,3]\n",
    "    for col in imu_cols:\n",
    "        for lag in lag_periods:\n",
    "            # 新しいラグ列の名前を作成 (例: acc_x_lag_1)\n",
    "            lagged_col_name = f\"{col}_lag_{lag}\"\n",
    "            # shift() メソッドで指定したラグ期間だけデータをずらします\n",
    "            target[lagged_col_name] = target[col].shift(lag)\n",
    "\n",
    "    target_2 = df_seq.loc[df_seq[\"behavior\"] == \"Hand at target location\", imu_cols]\n",
    "    feats = []\n",
    "    for col in imu_cols:\n",
    "        feats.append(target[col].mean())\n",
    "        feats.append(target[col].var())\n",
    "        feats.append(target[col].max())\n",
    "        feats.append(target[col].min())\n",
    "        feats.append(target_2[col].mean())\n",
    "        feats.append(target_2[col].var())\n",
    "        feats.append(target_2[col].max())\n",
    "        feats.append(target_2[col].min())\n",
    "    for col in imu_cols:\n",
    "        for lag in lag_periods:\n",
    "            lagged_col_name = f\"{col}_lag_{lag}\"\n",
    "            if lagged_col_name in target.columns:\n",
    "                # shift()によって生成されたNaN値を無視して統計量を計算するために skipna=True を使用\n",
    "                feats.append(target[lagged_col_name].mean(skipna=True))\n",
    "                feats.append(target[lagged_col_name].var(skipna=True))\n",
    "                feats.append(target[lagged_col_name].max(skipna=True))\n",
    "                feats.append(target[lagged_col_name].min(skipna=True))\n",
    "            else:\n",
    "                # もし何らかの理由でラグ列が存在しない場合（通常は発生しないはずですが、念のため）\n",
    "                # NaNを追加して特徴量の次元を維持します。\n",
    "                feats.extend([np.nan, np.nan, np.nan, np.nan])\n",
    "\n",
    "    # シーケンス単位で蓄積\n",
    "    X.append(feats)\n",
    "    y.append(df_seq[\"gesture\"].iloc[0])"
   ]
  },
  {
   "cell_type": "code",
   "execution_count": 9,
   "id": "848bcb0a",
   "metadata": {},
   "outputs": [],
   "source": [
    "skf = StratifiedKFold(n_splits=5, shuffle=True,random_state=42)\n"
   ]
  },
  {
   "cell_type": "code",
   "execution_count": 10,
   "id": "656e6d23",
   "metadata": {},
   "outputs": [],
   "source": [
    "X = pd.DataFrame(X)\n",
    "y = pd.DataFrame(y)"
   ]
  },
  {
   "cell_type": "code",
   "execution_count": 11,
   "id": "172bdc21",
   "metadata": {},
   "outputs": [],
   "source": [
    "target_gestures = [\n",
    "            'Above ear - pull hair',\n",
    "            'Cheek - pinch skin',\n",
    "            'Eyebrow - pull hair',\n",
    "            'Eyelash - pull hair',\n",
    "            'Forehead - pull hairline',\n",
    "            'Forehead - scratch',\n",
    "            'Neck - pinch skin',\n",
    "            'Neck - scratch',\n",
    "        ]\n",
    "non_target_gestures = [\n",
    "            'Write name on leg',\n",
    "            'Wave hello',\n",
    "            'Glasses on/off',\n",
    "            'Text on phone',\n",
    "            'Write name in air',\n",
    "            'Feel around in tray and pull out an object',\n",
    "            'Scratch knee/leg skin',\n",
    "            'Pull air toward your face',\n",
    "            'Drink from bottle/cup',\n",
    "            'Pinch knee/leg skin'\n",
    "        ]\n",
    "all_classes = target_gestures + non_target_gestures"
   ]
  },
  {
   "cell_type": "code",
   "execution_count": 12,
   "id": "6282e49a",
   "metadata": {},
   "outputs": [],
   "source": [
    "def binary_score(sol, sub):\n",
    "    y_true_bin = [1 if i in target_gestures else 0 for i in sol]\n",
    "    y_pred_bin = [1 if i in target_gestures else 0 for i in sub]\n",
    "    f1_binary = f1_score(\n",
    "            y_true_bin,\n",
    "            y_pred_bin,\n",
    "            pos_label=True,\n",
    "            zero_division=0,\n",
    "            average='binary'\n",
    "        )\n",
    "    \n",
    "    return 0.5 * f1_binary\n",
    "\n",
    "def macro_score(sol, sub):\n",
    "    y_true_mc = [x if x in target_gestures else 'non_target' for x in sol]\n",
    "    y_pred_mc = [x if x in target_gestures else 'non_target' for x in sub]\n",
    "\n",
    "        # Compute macro F1 over all gesture classes\n",
    "    f1_macro = f1_score(\n",
    "            y_true_mc,\n",
    "            y_pred_mc,\n",
    "            average='macro',\n",
    "            zero_division=0\n",
    "        )\n",
    "    \n",
    "    return 0.5 * f1_macro\n"
   ]
  },
  {
   "cell_type": "code",
   "execution_count": 13,
   "id": "4edfec6b",
   "metadata": {},
   "outputs": [
    {
     "name": "stdout",
     "output_type": "stream",
     "text": [
      "fold_1のmacro_scoreは\n",
      "0.19277907199350605\n",
      "fold_2のmacro_scoreは\n",
      "0.20480242351659694\n",
      "fold_3のmacro_scoreは\n",
      "0.1928684865088954\n",
      "fold_4のmacro_scoreは\n",
      "0.1912927801161224\n",
      "fold_5のmacro_scoreは\n",
      "0.1874240101713282\n"
     ]
    }
   ],
   "source": [
    "y_oof = np.zeros(len(y))\n",
    "y_oof = pd.DataFrame(y_oof)\n",
    "\n",
    "for fold, (tr_idx, val_idx) in enumerate(skf.split(X, y)):\n",
    "    model = lgb.LGBMClassifier(\n",
    "        objective='multiclass',\n",
    "        n_estimators= 1000,\n",
    "        learning_rate= 0.08,\n",
    "        max_depth= 15,\n",
    "        reg_alpha= 0.8,\n",
    "        lambda_l2= 4.0,  \n",
    "        num_leaves=31, \n",
    "        min_child_samples= 32,\n",
    "        colsample_bytree= 0.85,\n",
    "        subsample= 0.5,\n",
    "        subsample_freq=0,\n",
    "        cat_smooth=20.0,\n",
    "        is_unbalance=True,\n",
    "        max_bin=127,\n",
    "        verbose=-1,  \n",
    "        metric='multi_logloss'\n",
    "    )\n",
    "    \n",
    "    # Train model with verbose output\n",
    "    model.fit(\n",
    "        X.iloc[tr_idx], y.iloc[tr_idx],\n",
    "        eval_set=[(X.iloc[val_idx], y.iloc[val_idx])],  \n",
    "        eval_metric='multi_logloss'\n",
    "    )\n",
    "    # print(f\"fold_{fold+1}のbinary_scoreは\")\n",
    "    # print(binary_score(y.iloc[val_idx][0], model.predict(X.iloc[val_idx])))\n",
    "    print(f\"fold_{fold+1}のmacro_scoreは\")\n",
    "    print(macro_score(y.iloc[val_idx][0], model.predict(X.iloc[val_idx])))\n"
   ]
  },
  {
   "cell_type": "code",
   "execution_count": null,
   "id": "ab787ced",
   "metadata": {},
   "outputs": [],
   "source": []
  }
 ],
 "metadata": {
  "kernelspec": {
   "display_name": ".venv",
   "language": "python",
   "name": "python3"
  },
  "language_info": {
   "codemirror_mode": {
    "name": "ipython",
    "version": 3
   },
   "file_extension": ".py",
   "mimetype": "text/x-python",
   "name": "python",
   "nbconvert_exporter": "python",
   "pygments_lexer": "ipython3",
   "version": "3.12.3"
  }
 },
 "nbformat": 4,
 "nbformat_minor": 5
}
